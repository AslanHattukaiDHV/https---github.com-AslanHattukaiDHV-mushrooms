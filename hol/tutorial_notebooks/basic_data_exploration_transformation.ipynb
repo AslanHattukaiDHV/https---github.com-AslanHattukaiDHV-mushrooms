{
 "cells": [
  {
   "attachments": {},
   "cell_type": "markdown",
   "id": "3b648ee8",
   "metadata": {},
   "source": [
    "# DEMO: Data Exploration and Feature Engineering"
   ]
  },
  {
   "attachments": {},
   "cell_type": "markdown",
   "id": "1ed15903",
   "metadata": {},
   "source": [
    "## Imports"
   ]
  },
  {
   "cell_type": "code",
   "execution_count": 404,
   "id": "7410ce0d",
   "metadata": {},
   "outputs": [],
   "source": [
    "from snowflake.snowpark.session import Session\n",
    "import snowflake.snowpark.functions as F\n",
    "import snowflake.snowpark.types as T\n",
    "from snowflake.snowpark.window import Window\n",
    "from snowflake.ml.modeling.preprocessing import *\n",
    "from snowflake.ml.modeling.impute import *\n",
    "import sys\n",
    "import json\n",
    "import pandas as pd\n",
    "import matplotlib.pyplot as plt\n",
    "import numpy as np"
   ]
  },
  {
   "attachments": {},
   "cell_type": "markdown",
   "id": "a1f95920",
   "metadata": {},
   "source": [
    "## Create Snowpark Session"
   ]
  },
  {
   "cell_type": "code",
   "execution_count": 405,
   "id": "9a7da15f",
   "metadata": {},
   "outputs": [],
   "source": [
    "with open('creds.json') as f:\n",
    "    connection_parameters = json.load(f)"
   ]
  },
  {
   "cell_type": "code",
   "execution_count": 406,
   "id": "49090e02",
   "metadata": {},
   "outputs": [
    {
     "name": "stdout",
     "output_type": "stream",
     "text": [
      "Current Database and schema: \"MUSHROOMS_DB\".\"PUBLIC\"\n",
      "Current Warehouse: \"MUSHROOM_M_WH\"\n"
     ]
    }
   ],
   "source": [
    "session = Session.builder.configs(connection_parameters).create()\n",
    "print(f\"Current Database and schema: {session.get_fully_qualified_current_schema()}\")\n",
    "print(f\"Current Warehouse: {session.get_current_warehouse()}\")"
   ]
  },
  {
   "attachments": {},
   "cell_type": "markdown",
   "id": "ba1c0c26",
   "metadata": {},
   "source": [
    "## Snowpark DataFrames vs. Pandas DataFrames"
   ]
  },
  {
   "cell_type": "code",
   "execution_count": 407,
   "id": "8e6d1164",
   "metadata": {},
   "outputs": [
    {
     "name": "stdout",
     "output_type": "stream",
     "text": [
      "<class 'pandas.core.frame.DataFrame'>\n"
     ]
    }
   ],
   "source": [
    "# Creating a Pandas DataFrame\n",
    "pandas_df = pd.read_csv('data/mushrooms.csv')\n",
    "print(type(pandas_df))"
   ]
  },
  {
   "cell_type": "code",
   "execution_count": 408,
   "id": "623695f6",
   "metadata": {},
   "outputs": [
    {
     "name": "stdout",
     "output_type": "stream",
     "text": [
      "<class 'snowflake.snowpark.table.Table'>\n"
     ]
    }
   ],
   "source": [
    "# Creating a Snowpark DataFrame\n",
    "snowpark_df = session.table(\"MUSHROOM_DB.PUBLIC.MUSHROOMS\") # add full path to table db.shema.table\n",
    "print(type(snowpark_df))"
   ]
  },
  {
   "cell_type": "code",
   "execution_count": 409,
   "id": "b2d4f6b3",
   "metadata": {},
   "outputs": [
    {
     "name": "stdout",
     "output_type": "stream",
     "text": [
      "Size in MB of Pandas DataFrame in Memory:\n",
      " 10.34\n",
      "Size in MB of Snowpark DataFrame in Memory:\n",
      " 0.0\n"
     ]
    }
   ],
   "source": [
    "# Compare size\n",
    "print('Size in MB of Pandas DataFrame in Memory:\\n', np.round(sys.getsizeof(pandas_df) / (1024.0**2), 2))\n",
    "print('Size in MB of Snowpark DataFrame in Memory:\\n', np.round(sys.getsizeof(snowpark_df) / (1024.0**2), 2))"
   ]
  },
  {
   "attachments": {},
   "cell_type": "markdown",
   "id": "03ea0fc5",
   "metadata": {},
   "source": [
    "The only thing stored in a Snowpark DataFrame is the SQL needed to return data"
   ]
  },
  {
   "cell_type": "code",
   "execution_count": 410,
   "id": "43db7633",
   "metadata": {},
   "outputs": [
    {
     "data": {
      "text/plain": [
       "{'queries': ['SELECT  *  FROM (MUSHROOM_DB.PUBLIC.MUSHROOMS)'],\n",
       " 'post_actions': []}"
      ]
     },
     "execution_count": 410,
     "metadata": {},
     "output_type": "execute_result"
    }
   ],
   "source": [
    "snowpark_df.queries"
   ]
  },
  {
   "attachments": {},
   "cell_type": "markdown",
   "id": "d3cf44c3",
   "metadata": {},
   "source": [
    "A Snowpark DataFrame can be converted to a Pandas DataFrame. This will pull the data from Snowflake into the Python enviroment memory."
   ]
  },
  {
   "cell_type": "code",
   "execution_count": 411,
   "id": "e1ec1ddc",
   "metadata": {},
   "outputs": [],
   "source": [
    "pandas_df2= snowpark_df.to_pandas()"
   ]
  },
  {
   "attachments": {},
   "cell_type": "markdown",
   "id": "a7e707de",
   "metadata": {},
   "source": [
    "Both our Pandas DataFrames has the same shape"
   ]
  },
  {
   "cell_type": "code",
   "execution_count": 412,
   "id": "db95baaf",
   "metadata": {},
   "outputs": [
    {
     "data": {
      "text/plain": [
       "((8124, 23), (8124, 23))"
      ]
     },
     "execution_count": 412,
     "metadata": {},
     "output_type": "execute_result"
    }
   ],
   "source": [
    "pandas_df.shape, pandas_df2.shape"
   ]
  },
  {
   "attachments": {},
   "cell_type": "markdown",
   "id": "327f42bc",
   "metadata": {},
   "source": [
    "Showing a Snowpark DataFrame"
   ]
  },
  {
   "cell_type": "code",
   "execution_count": 413,
   "id": "ebd38225",
   "metadata": {},
   "outputs": [
    {
     "name": "stdout",
     "output_type": "stream",
     "text": [
      "<class 'pandas.core.frame.DataFrame'>\n",
      "RangeIndex: 8124 entries, 0 to 8123\n",
      "Data columns (total 23 columns):\n",
      " #   Column                    Non-Null Count  Dtype \n",
      "---  ------                    --------------  ----- \n",
      " 0   class                     8124 non-null   object\n",
      " 1   cap-shape                 8124 non-null   object\n",
      " 2   cap-surface               8124 non-null   object\n",
      " 3   cap-color                 8124 non-null   object\n",
      " 4   bruises                   8124 non-null   object\n",
      " 5   odor                      8124 non-null   object\n",
      " 6   gill-attachment           8124 non-null   object\n",
      " 7   gill-spacing              8124 non-null   object\n",
      " 8   gill-size                 8124 non-null   object\n",
      " 9   gill-color                8124 non-null   object\n",
      " 10  stalk-shape               8124 non-null   object\n",
      " 11  stalk-root                8124 non-null   object\n",
      " 12  stalk-surface-above-ring  8124 non-null   object\n",
      " 13  stalk-surface-below-ring  8124 non-null   object\n",
      " 14  stalk-color-above-ring    8124 non-null   object\n",
      " 15  stalk-color-below-ring    8124 non-null   object\n",
      " 16  veil-type                 8124 non-null   object\n",
      " 17  veil-color                8124 non-null   object\n",
      " 18  ring-number               8124 non-null   object\n",
      " 19  ring-type                 8124 non-null   object\n",
      " 20  spore-print-color         8124 non-null   object\n",
      " 21  population                8124 non-null   object\n",
      " 22  habitat                   8124 non-null   object\n",
      "dtypes: object(23)\n",
      "memory usage: 1.4+ MB\n"
     ]
    }
   ],
   "source": [
    "pandas_df2.info()"
   ]
  },
  {
   "cell_type": "code",
   "execution_count": 414,
   "id": "d264e16d",
   "metadata": {},
   "outputs": [
    {
     "data": {
      "text/plain": [
       "class                       0\n",
       "cap-shape                   0\n",
       "cap-surface                 0\n",
       "cap-color                   0\n",
       "bruises                     0\n",
       "odor                        0\n",
       "gill-attachment             0\n",
       "gill-spacing                0\n",
       "gill-size                   0\n",
       "gill-color                  0\n",
       "stalk-shape                 0\n",
       "stalk-root                  0\n",
       "stalk-surface-above-ring    0\n",
       "stalk-surface-below-ring    0\n",
       "stalk-color-above-ring      0\n",
       "stalk-color-below-ring      0\n",
       "veil-type                   0\n",
       "veil-color                  0\n",
       "ring-number                 0\n",
       "ring-type                   0\n",
       "spore-print-color           0\n",
       "population                  0\n",
       "habitat                     0\n",
       "dtype: int64"
      ]
     },
     "execution_count": 414,
     "metadata": {},
     "output_type": "execute_result"
    }
   ],
   "source": [
    "# check for null vlaues\n",
    "pandas_df2.isnull().sum()"
   ]
  },
  {
   "cell_type": "code",
   "execution_count": 415,
   "id": "d8a576c1",
   "metadata": {},
   "outputs": [
    {
     "data": {
      "text/plain": [
       "Index(['class', 'cap-shape', 'cap-surface', 'cap-color', 'bruises', 'odor',\n",
       "       'gill-attachment', 'gill-spacing', 'gill-size', 'gill-color',\n",
       "       'stalk-shape', 'stalk-root', 'stalk-surface-above-ring',\n",
       "       'stalk-surface-below-ring', 'stalk-color-above-ring',\n",
       "       'stalk-color-below-ring', 'veil-type', 'veil-color', 'ring-number',\n",
       "       'ring-type', 'spore-print-color', 'population', 'habitat'],\n",
       "      dtype='object')"
      ]
     },
     "execution_count": 415,
     "metadata": {},
     "output_type": "execute_result"
    }
   ],
   "source": [
    "#show all cols\n",
    "pandas_df2.columns"
   ]
  },
  {
   "cell_type": "code",
   "execution_count": 416,
   "id": "aa02b8e8",
   "metadata": {},
   "outputs": [
    {
     "name": "stdout",
     "output_type": "stream",
     "text": [
      "---------------------------------------------------------------------------------------------------------------------------------------------------------------------------------------------------------------------------------------------------------------------------------------------------------------------------------------------------------------------------------------------------------\n",
      "|\"class\"  |\"cap-shape\"  |\"cap-surface\"  |\"cap-color\"  |\"bruises\"  |\"odor\"  |\"gill-attachment\"  |\"gill-spacing\"  |\"gill-size\"  |\"gill-color\"  |\"stalk-shape\"  |\"stalk-root\"  |\"stalk-surface-above-ring\"  |\"stalk-surface-below-ring\"  |\"stalk-color-above-ring\"  |\"stalk-color-below-ring\"  |\"veil-type\"  |\"veil-color\"  |\"ring-number\"  |\"ring-type\"  |\"spore-print-color\"  |\"population\"  |\"habitat\"  |\n",
      "---------------------------------------------------------------------------------------------------------------------------------------------------------------------------------------------------------------------------------------------------------------------------------------------------------------------------------------------------------------------------------------------------------\n",
      "|p        |x            |s              |n            |t          |p       |f                  |c               |n            |k             |e              |e             |s                           |s                           |w                         |w                         |p            |w             |o              |p            |k                    |s             |u          |\n",
      "|e        |x            |s              |y            |t          |a       |f                  |c               |b            |k             |e              |c             |s                           |s                           |w                         |w                         |p            |w             |o              |p            |n                    |n             |g          |\n",
      "|e        |b            |s              |w            |t          |l       |f                  |c               |b            |n             |e              |c             |s                           |s                           |w                         |w                         |p            |w             |o              |p            |n                    |n             |m          |\n",
      "|p        |x            |y              |w            |t          |p       |f                  |c               |n            |n             |e              |e             |s                           |s                           |w                         |w                         |p            |w             |o              |p            |k                    |s             |u          |\n",
      "|e        |x            |s              |g            |f          |n       |f                  |w               |b            |k             |t              |e             |s                           |s                           |w                         |w                         |p            |w             |o              |e            |n                    |a             |g          |\n",
      "---------------------------------------------------------------------------------------------------------------------------------------------------------------------------------------------------------------------------------------------------------------------------------------------------------------------------------------------------------------------------------------------------------\n",
      "\n"
     ]
    }
   ],
   "source": [
    "# snowpark_df.show() <- also possible\n",
    "snowpark_df.limit(5).show() # <- collects first 5 rows and displays as pandas-dataframe"
   ]
  },
  {
   "attachments": {},
   "cell_type": "markdown",
   "id": "de7848e9",
   "metadata": {},
   "source": [
    "## Simple Transformations\n",
    "Select specific columns"
   ]
  },
  {
   "cell_type": "code",
   "execution_count": 417,
   "id": "79a577f5",
   "metadata": {},
   "outputs": [
    {
     "name": "stdout",
     "output_type": "stream",
     "text": [
      "-----------\n",
      "|\"class\"  |\n",
      "-----------\n",
      "|p        |\n",
      "|e        |\n",
      "|e        |\n",
      "|p        |\n",
      "|e        |\n",
      "|e        |\n",
      "|e        |\n",
      "|e        |\n",
      "|p        |\n",
      "|e        |\n",
      "-----------\n",
      "\n"
     ]
    }
   ],
   "source": [
    "snowpark_df.select('\"class\"').show()\n"
   ]
  },
  {
   "attachments": {},
   "cell_type": "markdown",
   "id": "cbc21227",
   "metadata": {},
   "source": [
    "To aggregate data the **group_by** method are used in combination with the **agg** method."
   ]
  },
  {
   "cell_type": "code",
   "execution_count": 418,
   "id": "1a56c822",
   "metadata": {},
   "outputs": [
    {
     "name": "stdout",
     "output_type": "stream",
     "text": [
      "---------------------\n",
      "|\"class\"  |\"COUNT\"  |\n",
      "---------------------\n",
      "|p        |3916     |\n",
      "|e        |4208     |\n",
      "---------------------\n",
      "\n"
     ]
    }
   ],
   "source": [
    "snowpark_df.group_by(['\"class\"']).count().show()\n"
   ]
  },
  {
   "attachments": {},
   "cell_type": "markdown",
   "id": "8c5f63dc",
   "metadata": {},
   "source": [
    "## Simple Data Analysis\n",
    "In this section we will use API Snowpark to do some basic analysis of our data.  \n",
    "Start by creating a new Snowpark DataFrame"
   ]
  },
  {
   "attachments": {},
   "cell_type": "markdown",
   "id": "b7e32fd8",
   "metadata": {},
   "source": [
    "The **count** method on a DataFrame will return the number of rows"
   ]
  },
  {
   "cell_type": "code",
   "execution_count": 419,
   "id": "4d4433a5",
   "metadata": {},
   "outputs": [
    {
     "data": {
      "text/plain": [
       "8124"
      ]
     },
     "execution_count": 419,
     "metadata": {},
     "output_type": "execute_result"
    }
   ],
   "source": [
    "# Number of rows in dataset\n",
    "snowpark_df.count()"
   ]
  },
  {
   "attachments": {},
   "cell_type": "markdown",
   "id": "5150f9f8",
   "metadata": {},
   "source": [
    "If we want to filter out duplicated rows, keeping only one, we can use the **drop_duplicates** method."
   ]
  },
  {
   "cell_type": "code",
   "execution_count": 420,
   "id": "bba56dd6",
   "metadata": {},
   "outputs": [
    {
     "data": {
      "text/plain": [
       "8124"
      ]
     },
     "execution_count": 420,
     "metadata": {},
     "output_type": "execute_result"
    }
   ],
   "source": [
    "# Lets drop duplicates based on ID\n",
    "snowpark_df.drop_duplicates().count()\n"
   ]
  },
  {
   "attachments": {},
   "cell_type": "markdown",
   "id": "00849069",
   "metadata": {},
   "source": [
    "Using the **describe** method will return some basic statistics for all numeric and string columns."
   ]
  },
  {
   "cell_type": "code",
   "execution_count": 421,
   "id": "3ff508f7",
   "metadata": {},
   "outputs": [
    {
     "name": "stdout",
     "output_type": "stream",
     "text": [
      "---------------------------------------------------------------------------------------------------------------------------------------------------------------------------------------------------------------------------------------------------------------------------------------------------------------------------------------------------------------------------------------------------------------------\n",
      "|\"SUMMARY\"  |\"class\"  |\"cap-shape\"  |\"cap-surface\"  |\"cap-color\"  |\"bruises\"  |\"odor\"  |\"gill-attachment\"  |\"gill-spacing\"  |\"gill-size\"  |\"gill-color\"  |\"stalk-shape\"  |\"stalk-root\"  |\"stalk-surface-above-ring\"  |\"stalk-surface-below-ring\"  |\"stalk-color-above-ring\"  |\"stalk-color-below-ring\"  |\"veil-type\"  |\"veil-color\"  |\"ring-number\"  |\"ring-type\"  |\"spore-print-color\"  |\"population\"  |\"habitat\"  |\n",
      "---------------------------------------------------------------------------------------------------------------------------------------------------------------------------------------------------------------------------------------------------------------------------------------------------------------------------------------------------------------------------------------------------------------------\n",
      "|count      |8124     |8124         |8124           |8124         |8124       |8124    |8124               |8124            |8124         |8124          |8124           |8124          |8124                        |8124                        |8124                      |8124                      |8124         |8124          |8124           |8124         |8124                 |8124          |8124       |\n",
      "|mean       |NULL     |NULL         |NULL           |NULL         |NULL       |NULL    |NULL               |NULL            |NULL         |NULL          |NULL           |NULL          |NULL                        |NULL                        |NULL                      |NULL                      |NULL         |NULL          |NULL           |NULL         |NULL                 |NULL          |NULL       |\n",
      "|stddev     |NULL     |NULL         |NULL           |NULL         |NULL       |NULL    |NULL               |NULL            |NULL         |NULL          |NULL           |NULL          |NULL                        |NULL                        |NULL                      |NULL                      |NULL         |NULL          |NULL           |NULL         |NULL                 |NULL          |NULL       |\n",
      "|min        |e        |b            |f              |b            |f          |a       |a                  |c               |b            |b             |e              |?             |f                           |f                           |b                         |b                         |p            |n             |n              |e            |b                    |a             |d          |\n",
      "|max        |p        |x            |y              |y            |t          |y       |f                  |w               |n            |y             |t              |r             |y                           |y                           |y                         |y                         |p            |y             |t              |p            |y                    |y             |w          |\n",
      "---------------------------------------------------------------------------------------------------------------------------------------------------------------------------------------------------------------------------------------------------------------------------------------------------------------------------------------------------------------------------------------------------------------------\n",
      "\n"
     ]
    }
   ],
   "source": [
    "# Calculating various statistics per column\n",
    "snowpark_df.describe().show()"
   ]
  },
  {
   "cell_type": "code",
   "execution_count": 422,
   "id": "d3325c0f",
   "metadata": {},
   "outputs": [
    {
     "name": "stdout",
     "output_type": "stream",
     "text": [
      "--------------------------\n",
      "|\"stalk-root\"  |\"COUNT\"  |\n",
      "--------------------------\n",
      "|e             |1120     |\n",
      "|c             |556      |\n",
      "|b             |3776     |\n",
      "|r             |192      |\n",
      "|?             |2480     |\n",
      "--------------------------\n",
      "\n"
     ]
    }
   ],
   "source": [
    "#we see that stalk root has a question mark lets explore that\n",
    "snowpark_df.group_by(['\"stalk-root\"']).count().show()\n"
   ]
  },
  {
   "cell_type": "markdown",
   "id": "4130cd17",
   "metadata": {},
   "source": [
    "If we do not want to use specific columns we can use **drop** to remove those from a Snowpark DataFrame.  \n",
    "**Note:** This is not removing them from the underlying table."
   ]
  },
  {
   "cell_type": "code",
   "execution_count": 423,
   "id": "a67b69cf",
   "metadata": {},
   "outputs": [],
   "source": [
    "# let us just drop that root-stalk col\n",
    "snowpark_df=snowpark_df.drop(['\"stalk-root\"'])"
   ]
  },
  {
   "cell_type": "code",
   "execution_count": 424,
   "id": "7d887537",
   "metadata": {},
   "outputs": [
    {
     "name": "stdout",
     "output_type": "stream",
     "text": [
      "-------------------------\n",
      "|\"veil-type\"  |\"COUNT\"  |\n",
      "-------------------------\n",
      "|p            |8124     |\n",
      "-------------------------\n",
      "\n"
     ]
    }
   ],
   "source": [
    "# we see that veil-type only has one value\n",
    "snowpark_df.group_by(['\"veil-type\"']).count().show()"
   ]
  },
  {
   "cell_type": "code",
   "execution_count": 425,
   "id": "90e5b208",
   "metadata": {},
   "outputs": [],
   "source": [
    "#let u s drop that one also\n",
    "snowpark_df=snowpark_df.drop(['\"veil-type\"'])"
   ]
  },
  {
   "cell_type": "code",
   "execution_count": 426,
   "id": "995c4a8d",
   "metadata": {},
   "outputs": [
    {
     "name": "stdout",
     "output_type": "stream",
     "text": [
      "----------------------------------------------------------------------------------------------------------------------------------------------------------------------------------------------------------------------------------------------------------------------------------------------------------------------------------------------------------------------------------------\n",
      "|\"SUMMARY\"  |\"class\"  |\"cap-shape\"  |\"cap-surface\"  |\"cap-color\"  |\"bruises\"  |\"odor\"  |\"gill-attachment\"  |\"gill-spacing\"  |\"gill-size\"  |\"gill-color\"  |\"stalk-shape\"  |\"stalk-surface-above-ring\"  |\"stalk-surface-below-ring\"  |\"stalk-color-above-ring\"  |\"stalk-color-below-ring\"  |\"veil-color\"  |\"ring-number\"  |\"ring-type\"  |\"spore-print-color\"  |\"population\"  |\"habitat\"  |\n",
      "----------------------------------------------------------------------------------------------------------------------------------------------------------------------------------------------------------------------------------------------------------------------------------------------------------------------------------------------------------------------------------------\n",
      "|count      |8124     |8124         |8124           |8124         |8124       |8124    |8124               |8124            |8124         |8124          |8124           |8124                        |8124                        |8124                      |8124                      |8124          |8124           |8124         |8124                 |8124          |8124       |\n",
      "|mean       |NULL     |NULL         |NULL           |NULL         |NULL       |NULL    |NULL               |NULL            |NULL         |NULL          |NULL           |NULL                        |NULL                        |NULL                      |NULL                      |NULL          |NULL           |NULL         |NULL                 |NULL          |NULL       |\n",
      "|stddev     |NULL     |NULL         |NULL           |NULL         |NULL       |NULL    |NULL               |NULL            |NULL         |NULL          |NULL           |NULL                        |NULL                        |NULL                      |NULL                      |NULL          |NULL           |NULL         |NULL                 |NULL          |NULL       |\n",
      "|min        |e        |b            |f              |b            |f          |a       |a                  |c               |b            |b             |e              |f                           |f                           |b                         |b                         |n             |n              |e            |b                    |a             |d          |\n",
      "|max        |p        |x            |y              |y            |t          |y       |f                  |w               |n            |y             |t              |y                           |y                           |y                         |y                         |y             |t              |p            |y                    |y             |w          |\n",
      "----------------------------------------------------------------------------------------------------------------------------------------------------------------------------------------------------------------------------------------------------------------------------------------------------------------------------------------------------------------------------------------\n",
      "\n"
     ]
    }
   ],
   "source": [
    "# Calculating various statistics per column\n",
    "snowpark_df.describe().show()"
   ]
  },
  {
   "cell_type": "code",
   "execution_count": 427,
   "id": "ea11ba36",
   "metadata": {},
   "outputs": [],
   "source": [
    "#snowpark_df.write.save_as_table(table_name='MUSCHROOM_CLEAN', mode='overwrite')\n",
    "#session.table('MUSCHROOM_CLEAN').show()"
   ]
  },
  {
   "cell_type": "code",
   "execution_count": 428,
   "id": "a4dc8b69",
   "metadata": {},
   "outputs": [
    {
     "name": "stdout",
     "output_type": "stream",
     "text": [
      "Current Database and schema: \"MUSHROOMS_DB\".\"PUBLIC\"\n"
     ]
    }
   ],
   "source": [
    "print(f\"Current Database and schema: {session.get_fully_qualified_current_schema()}\")"
   ]
  }
 ],
 "metadata": {
  "kernelspec": {
   "display_name": "Snowpark Kernel",
   "language": "python",
   "name": "snowpark"
  }
 },
 "nbformat": 4,
 "nbformat_minor": 5
}
